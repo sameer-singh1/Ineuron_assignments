{
 "cells": [
  {
   "cell_type": "markdown",
   "id": "a3d9a10e-b4d7-4070-b747-35a463dcf25c",
   "metadata": {},
   "source": [
    "# Assignment 6 answers"
   ]
  },
  {
   "cell_type": "markdown",
   "id": "12cc2964-a36c-4d52-a1ca-feae1e2b35e7",
   "metadata": {},
   "source": [
    "#### 1. Write a Python Program to Display Fibonacci Sequence using Recursion ?"
   ]
  },
  {
   "cell_type": "code",
   "execution_count": 1,
   "id": "32f3d0e8-2dea-4136-83f9-cb1f4ff6a1ce",
   "metadata": {},
   "outputs": [
    {
     "name": "stdin",
     "output_type": "stream",
     "text": [
      "Enter the length of Series:  20\n"
     ]
    },
    {
     "name": "stdout",
     "output_type": "stream",
     "text": [
      "0, 1, 3, 5, 8, 13, 21, 34, 55, 89, 144, 233, 377, 610, 987, 1597, 2584, 4181, 6765, 10946, 17711, 28657, "
     ]
    }
   ],
   "source": [
    "def genFibonacci(n,a,b):\n",
    "    if n == 0:\n",
    "        return 1\n",
    "    else:\n",
    "        result = a+b\n",
    "        print(result, end=', ')\n",
    "        genFibonacci(n-1,b,result)\n",
    "in_num = int(input('Enter the length of Series: '))\n",
    "print('0, 1',end=', ')\n",
    "genFibonacci(in_num,1,2)"
   ]
  },
  {
   "cell_type": "markdown",
   "id": "2fa0f24b-7b7d-413e-b822-fda81ed77294",
   "metadata": {},
   "source": [
    "#### 2. Write a Python Program to Find Factorial of a Number using Recursion ?"
   ]
  },
  {
   "cell_type": "code",
   "execution_count": 2,
   "id": "45f4743a-d71e-4d37-80df-52d911938fe9",
   "metadata": {},
   "outputs": [
    {
     "name": "stdin",
     "output_type": "stream",
     "text": [
      "Enter a number:  15\n"
     ]
    },
    {
     "name": "stdout",
     "output_type": "stream",
     "text": [
      "The Factorial of 15 is 1307674368000\n"
     ]
    }
   ],
   "source": [
    "def factorial(num):\n",
    "    if (num < 1):\n",
    "        return 1\n",
    "    else:\n",
    "        return num*factorial(num-1)\n",
    "num = int(input('Enter a number: '))\n",
    "value = factorial(num)\n",
    "print(f'The Factorial of {num} is {value}')"
   ]
  },
  {
   "cell_type": "markdown",
   "id": "3876ebb7-ce74-4013-bf7d-2f2bf63f30c3",
   "metadata": {},
   "source": [
    "#### 3. Write a Python Program to Calculate your Body Mass Index ?"
   ]
  },
  {
   "cell_type": "code",
   "execution_count": 3,
   "id": "50110ac1-3f54-496e-aecc-26cf6bab8914",
   "metadata": {},
   "outputs": [
    {
     "name": "stdin",
     "output_type": "stream",
     "text": [
      "Enter your Weight(kgs):  50\n",
      "Enter your Height(mts):  1.5\n"
     ]
    },
    {
     "name": "stdout",
     "output_type": "stream",
     "text": [
      "Your're BMI is 22.22222222222222 and status is Healthy \n"
     ]
    }
   ],
   "source": [
    "def calculateBMI():\n",
    "    in_weight = eval(input('Enter your Weight(kgs): '))\n",
    "    in_height = eval(input('Enter your Height(mts): '))\n",
    "    calc_bmi = in_weight/pow(in_height,2)\n",
    "    if (calc_bmi < 18.5):\n",
    "        status = 'Underweight'\n",
    "    elif (calc_bmi >= 18.5 and calc_bmi < 24.9):\n",
    "        status = 'Healthy'\n",
    "    elif (calc_bmi >= 24.9 and calc_bmi < 30):\n",
    "        status = 'Overweight'\n",
    "    elif (calc_bmi >=30):\n",
    "        status = 'Suffering from Obesity'\n",
    "    print(f'Your\\'re BMI is {calc_bmi} and status is {status} ')\n",
    "calculateBMI()"
   ]
  },
  {
   "cell_type": "markdown",
   "id": "8dd33a6e-95d1-4f13-b1dd-6ae26086f7a7",
   "metadata": {},
   "source": [
    "#### 4. Write a Python Program to Calculate the Natural Logarithm of any Number ?"
   ]
  },
  {
   "cell_type": "code",
   "execution_count": 4,
   "id": "d50ca629-3b5e-4c1e-ae31-15e37f01890e",
   "metadata": {},
   "outputs": [
    {
     "name": "stdin",
     "output_type": "stream",
     "text": [
      "Enter a Number: 30\n"
     ]
    },
    {
     "name": "stdout",
     "output_type": "stream",
     "text": [
      "3.4011973816621555\n"
     ]
    }
   ],
   "source": [
    "import math\n",
    "def genNatLog():\n",
    "    in_num = eval(input(\"Enter a Number:\"))\n",
    "    print(math.log(in_num))\n",
    "\n",
    "genNatLog()"
   ]
  },
  {
   "cell_type": "markdown",
   "id": "09c0609e-db6a-4a50-ab44-47969ece3c49",
   "metadata": {},
   "source": [
    "#### 5. Write a Python Program for Cube sum of first n Natural Numbers ?"
   ]
  },
  {
   "cell_type": "code",
   "execution_count": 5,
   "id": "c6b0de3f-99b4-4dd5-bbbc-8284a0899f08",
   "metadata": {},
   "outputs": [
    {
     "name": "stdin",
     "output_type": "stream",
     "text": [
      "Enter the no of Natural Numbers:  4\n"
     ]
    },
    {
     "name": "stdout",
     "output_type": "stream",
     "text": [
      "The Cube Sum of First 4 Natural Numbers is 100.0\n"
     ]
    }
   ],
   "source": [
    "def cubeOfNaturalNumbers():\n",
    "    in_num = int(input(\"Enter the no of Natural Numbers: \"))\n",
    "    result = pow(((in_num * (in_num +1))/2),2)\n",
    "    print(f'The Cube Sum of First {in_num} Natural Numbers is {result}')\n",
    "\n",
    "cubeOfNaturalNumbers()"
   ]
  },
  {
   "cell_type": "code",
   "execution_count": null,
   "id": "d083af3d-0e32-4908-84c5-9fd2c734326f",
   "metadata": {},
   "outputs": [],
   "source": []
  }
 ],
 "metadata": {
  "kernelspec": {
   "display_name": "Python 3 (ipykernel)",
   "language": "python",
   "name": "python3"
  },
  "language_info": {
   "codemirror_mode": {
    "name": "ipython",
    "version": 3
   },
   "file_extension": ".py",
   "mimetype": "text/x-python",
   "name": "python",
   "nbconvert_exporter": "python",
   "pygments_lexer": "ipython3",
   "version": "3.10.6"
  }
 },
 "nbformat": 4,
 "nbformat_minor": 5
}
